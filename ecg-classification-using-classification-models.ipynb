{
 "cells": [
  {
   "cell_type": "code",
   "execution_count": 1,
   "metadata": {
    "_cell_guid": "b1076dfc-b9ad-4769-8c92-a6c4dae69d19",
    "_uuid": "8f2839f25d086af736a60e9eeb907d3b93b6e0e5",
    "execution": {
     "iopub.execute_input": "2021-11-01T15:54:34.243667Z",
     "iopub.status.busy": "2021-11-01T15:54:34.243103Z",
     "iopub.status.idle": "2021-11-01T15:54:34.256285Z",
     "shell.execute_reply": "2021-11-01T15:54:34.255807Z",
     "shell.execute_reply.started": "2021-11-01T15:36:34.387289Z"
    },
    "papermill": {
     "duration": 0.028279,
     "end_time": "2021-11-01T15:54:34.256389",
     "exception": false,
     "start_time": "2021-11-01T15:54:34.228110",
     "status": "completed"
    },
    "tags": []
   },
   "outputs": [
    {
     "name": "stdout",
     "output_type": "stream",
     "text": [
      "/kaggle/input/heartbeat/ptbdb_abnormal.csv\n",
      "/kaggle/input/heartbeat/ptbdb_normal.csv\n",
      "/kaggle/input/heartbeat/mitbih_test.csv\n",
      "/kaggle/input/heartbeat/mitbih_train.csv\n"
     ]
    }
   ],
   "source": [
    "# This Python 3 environment comes with many helpful analytics libraries installed\n",
    "# It is defined by the kaggle/python Docker image: https://github.com/kaggle/docker-python\n",
    "# For example, here's several helpful packages to load\n",
    "\n",
    "import numpy as np # linear algebra\n",
    "import pandas as pd # data processing, CSV file I/O (e.g. pd.read_csv)\n",
    "\n",
    "# Input data files are available in the read-only \"../input/\" directory\n",
    "# For example, running this (by clicking run or pressing Shift+Enter) will list all files under the input directory\n",
    "\n",
    "import os\n",
    "for dirname, _, filenames in os.walk('/kaggle/input'):\n",
    "    for filename in filenames:\n",
    "        print(os.path.join(dirname, filename))\n",
    "\n",
    "# You can write up to 5GB to the current directory (/kaggle/working/) that gets preserved as output when you create a version using \"Save & Run All\" \n",
    "# You can also write temporary files to /kaggle/temp/, but they won't be saved outside of the current session"
   ]
  },
  {
   "cell_type": "code",
   "execution_count": 2,
   "metadata": {
    "_cell_guid": "79c7e3d0-c299-4dcb-8224-4455121ee9b0",
    "_uuid": "d629ff2d2480ee46fbb7e2d37f6b5fab8052498a",
    "execution": {
     "iopub.execute_input": "2021-11-01T15:54:34.280802Z",
     "iopub.status.busy": "2021-11-01T15:54:34.280109Z",
     "iopub.status.idle": "2021-11-01T15:54:35.047357Z",
     "shell.execute_reply": "2021-11-01T15:54:35.046478Z",
     "shell.execute_reply.started": "2021-11-01T15:36:34.411675Z"
    },
    "papermill": {
     "duration": 0.781676,
     "end_time": "2021-11-01T15:54:35.047474",
     "exception": false,
     "start_time": "2021-11-01T15:54:34.265798",
     "status": "completed"
    },
    "tags": []
   },
   "outputs": [
    {
     "name": "stderr",
     "output_type": "stream",
     "text": [
      "Using TensorFlow backend.\n"
     ]
    }
   ],
   "source": [
    "import numpy as np\n",
    "import pandas as pd\n",
    "import seaborn as sns\n",
    "import matplotlib.pyplot as plt\n",
    "from sklearn.metrics import classification_report\n",
    "from sklearn.model_selection import train_test_split\n",
    "from sklearn.metrics import f1_score\n",
    "from sklearn.metrics import confusion_matrix\n",
    "from keras.utils.np_utils import to_categorical\n",
    "from sklearn.utils import class_weight\n",
    "import warnings\n",
    "warnings.filterwarnings('ignore')"
   ]
  },
  {
   "cell_type": "code",
   "execution_count": 3,
   "metadata": {
    "execution": {
     "iopub.execute_input": "2021-11-01T15:54:35.071240Z",
     "iopub.status.busy": "2021-11-01T15:54:35.070702Z",
     "iopub.status.idle": "2021-11-01T15:54:44.313784Z",
     "shell.execute_reply": "2021-11-01T15:54:44.313296Z",
     "shell.execute_reply.started": "2021-11-01T15:36:35.461181Z"
    },
    "papermill": {
     "duration": 9.256947,
     "end_time": "2021-11-01T15:54:44.313898",
     "exception": false,
     "start_time": "2021-11-01T15:54:35.056951",
     "status": "completed"
    },
    "tags": []
   },
   "outputs": [],
   "source": [
    "train_df=pd.read_csv('/kaggle/input/heartbeat/mitbih_train.csv',header=None)\n",
    "test_df=pd.read_csv('/kaggle/input/heartbeat/mitbih_test.csv',header=None)"
   ]
  },
  {
   "cell_type": "code",
   "execution_count": 4,
   "metadata": {
    "execution": {
     "iopub.execute_input": "2021-11-01T15:54:44.345759Z",
     "iopub.status.busy": "2021-11-01T15:54:44.344878Z",
     "iopub.status.idle": "2021-11-01T15:54:44.351397Z",
     "shell.execute_reply": "2021-11-01T15:54:44.350934Z",
     "shell.execute_reply.started": "2021-11-01T15:36:44.958151Z"
    },
    "papermill": {
     "duration": 0.027069,
     "end_time": "2021-11-01T15:54:44.351489",
     "exception": false,
     "start_time": "2021-11-01T15:54:44.324420",
     "status": "completed"
    },
    "tags": []
   },
   "outputs": [],
   "source": [
    "target_train=train_df[187]\n",
    "target_test=test_df[187]\n",
    "y_train=to_categorical(target_train)\n",
    "y_test=to_categorical(target_test)\n",
    "X_train=train_df.iloc[:,:186].values\n",
    "X_test=test_df.iloc[:,:186].values\n",
    "x_train=X_train\n",
    "Y_train=y_train\n",
    "x_test=X_test\n",
    "Y_test=y_test\n",
    "X_train = X_train.reshape(len(X_train), X_train.shape[1],1)\n",
    "X_test = X_test.reshape(len(X_test), X_test.shape[1],1)"
   ]
  },
  {
   "cell_type": "code",
   "execution_count": 5,
   "metadata": {
    "execution": {
     "iopub.execute_input": "2021-11-01T15:54:44.384943Z",
     "iopub.status.busy": "2021-11-01T15:54:44.383203Z",
     "iopub.status.idle": "2021-11-01T15:54:44.385594Z",
     "shell.execute_reply": "2021-11-01T15:54:44.385993Z",
     "shell.execute_reply.started": "2021-11-01T15:36:44.983618Z"
    },
    "papermill": {
     "duration": 0.024749,
     "end_time": "2021-11-01T15:54:44.386114",
     "exception": false,
     "start_time": "2021-11-01T15:54:44.361365",
     "status": "completed"
    },
    "tags": []
   },
   "outputs": [],
   "source": [
    "def network(X_train,y_train,X_test,y_test):\n",
    "    \n",
    "\n",
    "    im_shape=(X_train.shape[1],1)\n",
    "    inputs_cnn=Input(shape=(im_shape), name='inputs_cnn')\n",
    "    conv1_1=Convolution1D(64, (6), activation='relu', input_shape=im_shape)(inputs_cnn)\n",
    "    conv1_1=BatchNormalization()(conv1_1)\n",
    "    pool1=MaxPool1D(pool_size=(3), strides=(2), padding=\"same\")(conv1_1)\n",
    "    conv2_1=Convolution1D(64, (3), activation='relu', input_shape=im_shape)(pool1)\n",
    "    conv2_1=BatchNormalization()(conv2_1)\n",
    "    pool2=MaxPool1D(pool_size=(2), strides=(2), padding=\"same\")(conv2_1)\n",
    "    conv3_1=Convolution1D(64, (3), activation='relu', input_shape=im_shape)(pool2)\n",
    "    conv3_1=BatchNormalization()(conv3_1)\n",
    "    pool3=MaxPool1D(pool_size=(2), strides=(2), padding=\"same\")(conv3_1)\n",
    "    flatten=Flatten()(pool3)\n",
    "    dense_end1 = Dense(64, activation='relu')(flatten)\n",
    "    dense_end2 = Dense(32, activation='relu')(dense_end1)\n",
    "    main_output = Dense(5, activation='softmax', name='main_output')(dense_end2)\n",
    "    \n",
    "    \n",
    "    model = Model(inputs= inputs_cnn, outputs=main_output)\n",
    "    model.compile(optimizer='adam', loss='categorical_crossentropy',metrics = ['accuracy'])\n",
    "    \n",
    "    \n",
    "    history=model.fit(X_train, y_train,epochs=15, batch_size=128,validation_data=(X_test,y_test))\n",
    "    return(model,history)"
   ]
  },
  {
   "cell_type": "code",
   "execution_count": 6,
   "metadata": {
    "execution": {
     "iopub.execute_input": "2021-11-01T15:54:44.416522Z",
     "iopub.status.busy": "2021-11-01T15:54:44.415773Z",
     "iopub.status.idle": "2021-11-01T15:54:44.418270Z",
     "shell.execute_reply": "2021-11-01T15:54:44.418689Z",
     "shell.execute_reply.started": "2021-11-01T15:36:45.003292Z"
    },
    "papermill": {
     "duration": 0.023033,
     "end_time": "2021-11-01T15:54:44.418785",
     "exception": false,
     "start_time": "2021-11-01T15:54:44.395752",
     "status": "completed"
    },
    "tags": []
   },
   "outputs": [],
   "source": [
    "def evaluate_model(history,X_test,y_test,model):\n",
    "    scores = model.evaluate((X_test),y_test, verbose=0)\n",
    "    print(\"Accuracy: %.2f%%\" % (scores[1]*100))\n",
    "    \n",
    "    print(history)\n",
    "    fig1, ax_acc = plt.subplots()\n",
    "    plt.plot(history.history['accuracy'])\n",
    "    plt.plot(history.history['val_accuracy'])\n",
    "    plt.xlabel('Epoch')\n",
    "    plt.ylabel('Accuracy')\n",
    "    plt.title('Model - Accuracy')\n",
    "    plt.legend(['Training', 'Validation'], loc='lower right')\n",
    "    plt.show()\n",
    "    \n",
    "    fig2, ax_loss = plt.subplots()\n",
    "    plt.xlabel('Epoch')\n",
    "    plt.ylabel('Loss')\n",
    "    plt.title('Model- Loss')\n",
    "    plt.legend(['Training', 'Validation'], loc='upper right')\n",
    "    plt.plot(history.history['loss'])\n",
    "    plt.plot(history.history['val_loss'])\n",
    "    plt.show()\n",
    "    target_names=['0','1','2','3','4']\n",
    "    \n",
    "    y_true=[]\n",
    "    for element in y_test:\n",
    "        y_true.append(np.argmax(element))\n",
    "    prediction_proba=model.predict(X_test)\n",
    "    prediction=np.argmax(prediction_proba,axis=1)\n",
    "    cnf_matrix = confusion_matrix(y_true, prediction)"
   ]
  },
  {
   "cell_type": "code",
   "execution_count": 7,
   "metadata": {
    "execution": {
     "iopub.execute_input": "2021-11-01T15:54:44.442681Z",
     "iopub.status.busy": "2021-11-01T15:54:44.442106Z",
     "iopub.status.idle": "2021-11-01T15:55:53.362019Z",
     "shell.execute_reply": "2021-11-01T15:55:53.361509Z",
     "shell.execute_reply.started": "2021-11-01T15:36:45.022865Z"
    },
    "papermill": {
     "duration": 68.934171,
     "end_time": "2021-11-01T15:55:53.362164",
     "exception": false,
     "start_time": "2021-11-01T15:54:44.427993",
     "status": "completed"
    },
    "tags": []
   },
   "outputs": [
    {
     "name": "stdout",
     "output_type": "stream",
     "text": [
      "Epoch 1/15\n",
      "685/685 [==============================] - 4s 6ms/step - loss: 0.1297 - accuracy: 0.9640 - val_loss: 0.1180 - val_accuracy: 0.9728\n",
      "Epoch 2/15\n",
      "685/685 [==============================] - 4s 6ms/step - loss: 0.0701 - accuracy: 0.9797 - val_loss: 0.0908 - val_accuracy: 0.9750\n",
      "Epoch 3/15\n",
      "685/685 [==============================] - 4s 6ms/step - loss: 0.0522 - accuracy: 0.9844 - val_loss: 0.0911 - val_accuracy: 0.9741\n",
      "Epoch 4/15\n",
      "685/685 [==============================] - 4s 6ms/step - loss: 0.0439 - accuracy: 0.9863 - val_loss: 0.0732 - val_accuracy: 0.9805\n",
      "Epoch 5/15\n",
      "685/685 [==============================] - 4s 6ms/step - loss: 0.0393 - accuracy: 0.9877 - val_loss: 0.0710 - val_accuracy: 0.9822\n",
      "Epoch 6/15\n",
      "685/685 [==============================] - 4s 6ms/step - loss: 0.0326 - accuracy: 0.9894 - val_loss: 0.0719 - val_accuracy: 0.9819\n",
      "Epoch 7/15\n",
      "685/685 [==============================] - 4s 6ms/step - loss: 0.0283 - accuracy: 0.9911 - val_loss: 0.0674 - val_accuracy: 0.9837\n",
      "Epoch 8/15\n",
      "685/685 [==============================] - 4s 6ms/step - loss: 0.0258 - accuracy: 0.9915 - val_loss: 0.0855 - val_accuracy: 0.9807\n",
      "Epoch 9/15\n",
      "685/685 [==============================] - 4s 6ms/step - loss: 0.0227 - accuracy: 0.9924 - val_loss: 0.0849 - val_accuracy: 0.9797\n",
      "Epoch 10/15\n",
      "685/685 [==============================] - 4s 6ms/step - loss: 0.0211 - accuracy: 0.9927 - val_loss: 0.0811 - val_accuracy: 0.9816\n",
      "Epoch 11/15\n",
      "685/685 [==============================] - 4s 6ms/step - loss: 0.0185 - accuracy: 0.9938 - val_loss: 0.0878 - val_accuracy: 0.9783\n",
      "Epoch 12/15\n",
      "685/685 [==============================] - 4s 6ms/step - loss: 0.0173 - accuracy: 0.9941 - val_loss: 0.0811 - val_accuracy: 0.9846\n",
      "Epoch 13/15\n",
      "685/685 [==============================] - 4s 6ms/step - loss: 0.0147 - accuracy: 0.9949 - val_loss: 0.0768 - val_accuracy: 0.9841\n",
      "Epoch 14/15\n",
      "685/685 [==============================] - 4s 6ms/step - loss: 0.0170 - accuracy: 0.9939 - val_loss: 0.0800 - val_accuracy: 0.9837\n",
      "Epoch 15/15\n",
      "685/685 [==============================] - 4s 6ms/step - loss: 0.0141 - accuracy: 0.9952 - val_loss: 0.0787 - val_accuracy: 0.9850\n"
     ]
    }
   ],
   "source": [
    "from keras.layers import Dense, Convolution1D, MaxPool1D, Flatten, Dropout\n",
    "from keras.layers import Input\n",
    "from keras.models import Model\n",
    "from keras.layers.normalization import BatchNormalization\n",
    "import keras\n",
    "\n",
    "\n",
    "model,history=network(X_train,y_train,X_test,y_test)"
   ]
  },
  {
   "cell_type": "code",
   "execution_count": 8,
   "metadata": {
    "execution": {
     "iopub.execute_input": "2021-11-01T15:55:53.993140Z",
     "iopub.status.busy": "2021-11-01T15:55:53.992294Z",
     "iopub.status.idle": "2021-11-01T15:55:57.310466Z",
     "shell.execute_reply": "2021-11-01T15:55:57.309878Z",
     "shell.execute_reply.started": "2021-11-01T15:38:11.988388Z"
    },
    "papermill": {
     "duration": 3.635354,
     "end_time": "2021-11-01T15:55:57.310585",
     "exception": false,
     "start_time": "2021-11-01T15:55:53.675231",
     "status": "completed"
    },
    "tags": []
   },
   "outputs": [
    {
     "name": "stdout",
     "output_type": "stream",
     "text": [
      "Accuracy: 98.50%\n",
      "<tensorflow.python.keras.callbacks.History object at 0x7fa0361c51d0>\n"
     ]
    },
    {
     "data": {
      "image/png": "[encoded data removed]",
      "text/plain": [
       "<Figure size 432x288 with 1 Axes>"
      ]
     },
     "metadata": {
      "needs_background": "light"
     },
     "output_type": "display_data"
    },
    {
     "data": {
      "image/png": "[encoded data removed]",
      "text/plain": [
       "<Figure size 432x288 with 1 Axes>"
      ]
     },
     "metadata": {
      "needs_background": "light"
     },
     "output_type": "display_data"
    }
   ],
   "source": [
    "evaluate_model(history,X_test,y_test,model)\n",
    "y_pred=model.predict(X_test)"
   ]
  },
  {
   "cell_type": "code",
   "execution_count": 9,
   "metadata": {
    "execution": {
     "iopub.execute_input": "2021-11-01T15:55:57.944289Z",
     "iopub.status.busy": "2021-11-01T15:55:57.943405Z",
     "iopub.status.idle": "2021-11-01T15:55:57.994367Z",
     "shell.execute_reply": "2021-11-01T15:55:57.993043Z",
     "shell.execute_reply.started": "2021-11-01T15:38:16.971869Z"
    },
    "papermill": {
     "duration": 0.367899,
     "end_time": "2021-11-01T15:55:57.994474",
     "exception": false,
     "start_time": "2021-11-01T15:55:57.626575",
     "status": "completed"
    },
    "tags": []
   },
   "outputs": [
    {
     "name": "stdout",
     "output_type": "stream",
     "text": [
      "[[18038    61    11     5     3]\n",
      " [   94   453     7     0     2]\n",
      " [   59     6  1365    15     3]\n",
      " [   25     0    15   122     0]\n",
      " [   21     0     1     0  1586]]\n",
      "              precision    recall  f1-score   support\n",
      "\n",
      "           0       0.99      1.00      0.99     18118\n",
      "           1       0.87      0.81      0.84       556\n",
      "           2       0.98      0.94      0.96      1448\n",
      "           3       0.86      0.75      0.80       162\n",
      "           4       0.99      0.99      0.99      1608\n",
      "\n",
      "    accuracy                           0.99     21892\n",
      "   macro avg       0.94      0.90      0.92     21892\n",
      "weighted avg       0.98      0.99      0.98     21892\n",
      "\n"
     ]
    }
   ],
   "source": [
    "# Compute confusion matrix\n",
    "from sklearn.metrics import classification_report\n",
    "cnf_matrix = confusion_matrix(y_test.argmax(axis=1), y_pred.argmax(axis=1))\n",
    "c_report=classification_report(y_test.argmax(axis=1), y_pred.argmax(axis=1))\n",
    "print(cnf_matrix)\n",
    "print(c_report)"
   ]
  },
  {
   "cell_type": "code",
   "execution_count": 10,
   "metadata": {
    "execution": {
     "iopub.execute_input": "2021-11-01T15:55:58.640779Z",
     "iopub.status.busy": "2021-11-01T15:55:58.640149Z",
     "iopub.status.idle": "2021-11-01T15:56:55.667913Z",
     "shell.execute_reply": "2021-11-01T15:56:55.668416Z",
     "shell.execute_reply.started": "2021-11-01T15:38:17.069804Z"
    },
    "papermill": {
     "duration": 57.349992,
     "end_time": "2021-11-01T15:56:55.668553",
     "exception": false,
     "start_time": "2021-11-01T15:55:58.318561",
     "status": "completed"
    },
    "tags": []
   },
   "outputs": [
    {
     "name": "stdout",
     "output_type": "stream",
     "text": [
      "[[17686   184   129    45    74]\n",
      " [  187   354     8     5     2]\n",
      " [  150    13  1241    26    18]\n",
      " [   41     1    22    97     1]\n",
      " [   78     6    20     0  1504]]\n",
      "              precision    recall  f1-score   support\n",
      "\n",
      "           0       0.97      0.98      0.98     18118\n",
      "           1       0.63      0.64      0.64       556\n",
      "           2       0.87      0.86      0.87      1448\n",
      "           3       0.56      0.60      0.58       162\n",
      "           4       0.94      0.94      0.94      1608\n",
      "\n",
      "    accuracy                           0.95     21892\n",
      "   macro avg       0.80      0.80      0.80     21892\n",
      "weighted avg       0.95      0.95      0.95     21892\n",
      "\n"
     ]
    }
   ],
   "source": [
    "from sklearn.tree import DecisionTreeClassifier\n",
    "model=DecisionTreeClassifier()\n",
    "model.fit(x_train,Y_train)\n",
    "y_pred=model.predict(x_test)\n",
    "cm1=confusion_matrix(Y_test.argmax(axis=1),y_pred.argmax(axis=1))\n",
    "print(cm1)\n",
    "cr1=classification_report(Y_test.argmax(axis=1),y_pred.argmax(axis=1))\n",
    "print(cr1)"
   ]
  },
  {
   "cell_type": "code",
   "execution_count": 11,
   "metadata": {
    "execution": {
     "iopub.execute_input": "2021-11-01T15:56:56.311744Z",
     "iopub.status.busy": "2021-11-01T15:56:56.311050Z",
     "iopub.status.idle": "2021-11-01T16:00:01.886952Z",
     "shell.execute_reply": "2021-11-01T16:00:01.887567Z",
     "shell.execute_reply.started": "2021-11-01T15:39:09.694548Z"
    },
    "papermill": {
     "duration": 185.898777,
     "end_time": "2021-11-01T16:00:01.887725",
     "exception": false,
     "start_time": "2021-11-01T15:56:55.988948",
     "status": "completed"
    },
    "tags": []
   },
   "outputs": [
    {
     "name": "stdout",
     "output_type": "stream",
     "text": [
      "[[18108     4     5     0     1]\n",
      " [  233   322     0     0     1]\n",
      " [  187     0  1248    11     2]\n",
      " [   60     0    10    92     0]\n",
      " [   98     0     1     0  1509]]\n",
      "              precision    recall  f1-score   support\n",
      "\n",
      "           0       0.97      1.00      0.98     18118\n",
      "           1       0.99      0.58      0.73       556\n",
      "           2       0.99      0.86      0.92      1448\n",
      "           3       0.89      0.57      0.69       162\n",
      "           4       1.00      0.94      0.97      1608\n",
      "\n",
      "    accuracy                           0.97     21892\n",
      "   macro avg       0.97      0.79      0.86     21892\n",
      "weighted avg       0.97      0.97      0.97     21892\n",
      "\n"
     ]
    }
   ],
   "source": [
    "from sklearn.ensemble import RandomForestClassifier\n",
    "model=RandomForestClassifier()\n",
    "model.fit(x_train,Y_train)\n",
    "y_pred=model.predict(x_test)\n",
    "cm1=confusion_matrix(Y_test.argmax(axis=1),y_pred.argmax(axis=1))\n",
    "print(cm1)\n",
    "cr1=classification_report(Y_test.argmax(axis=1),y_pred.argmax(axis=1))\n",
    "print(cr1)"
   ]
  },
  {
   "cell_type": "code",
   "execution_count": 12,
   "metadata": {
    "execution": {
     "iopub.execute_input": "2021-11-01T16:00:02.565011Z",
     "iopub.status.busy": "2021-11-01T16:00:02.564266Z",
     "iopub.status.idle": "2021-11-01T16:08:18.100966Z",
     "shell.execute_reply": "2021-11-01T16:08:18.101542Z",
     "shell.execute_reply.started": "2021-11-01T15:42:06.781553Z"
    },
    "papermill": {
     "duration": 495.899883,
     "end_time": "2021-11-01T16:08:18.101698",
     "exception": false,
     "start_time": "2021-11-01T16:00:02.201815",
     "status": "completed"
    },
    "tags": []
   },
   "outputs": [
    {
     "name": "stdout",
     "output_type": "stream",
     "text": [
      "[[18035    40    33     2     8]\n",
      " [  164   385     5     1     1]\n",
      " [   83    14  1340     7     4]\n",
      " [   44     0    25    93     0]\n",
      " [   58     8    13     0  1529]]\n",
      "              precision    recall  f1-score   support\n",
      "\n",
      "           0       0.98      1.00      0.99     18118\n",
      "           1       0.86      0.69      0.77       556\n",
      "           2       0.95      0.93      0.94      1448\n",
      "           3       0.90      0.57      0.70       162\n",
      "           4       0.99      0.95      0.97      1608\n",
      "\n",
      "    accuracy                           0.98     21892\n",
      "   macro avg       0.94      0.83      0.87     21892\n",
      "weighted avg       0.98      0.98      0.98     21892\n",
      "\n"
     ]
    }
   ],
   "source": [
    "from sklearn.neural_network import MLPClassifier\n",
    "model=MLPClassifier()\n",
    "model.fit(x_train,Y_train)\n",
    "y_pred=model.predict(x_test)\n",
    "cm1=confusion_matrix(Y_test.argmax(axis=1),y_pred.argmax(axis=1))\n",
    "print(cm1)\n",
    "cr1=classification_report(Y_test.argmax(axis=1),y_pred.argmax(axis=1))\n",
    "print(cr1)"
   ]
  }
 ],
 "metadata": {
  "kernelspec": {
   "display_name": "Python 3",
   "language": "python",
   "name": "python3"
  },
  "language_info": {
   "codemirror_mode": {
    "name": "ipython",
    "version": 3
   },
   "file_extension": ".py",
   "mimetype": "text/x-python",
   "name": "python",
   "nbconvert_exporter": "python",
   "pygments_lexer": "ipython3",
   "version": "3.7.6"
  },
  "papermill": {
   "duration": 832.894613,
   "end_time": "2021-11-01T16:08:18.619351",
   "environment_variables": {},
   "exception": null,
   "input_path": "__notebook__.ipynb",
   "output_path": "__notebook__.ipynb",
   "parameters": {},
   "start_time": "2021-11-01T15:54:25.724738",
   "version": "2.1.0"
  }
 },
 "nbformat": 4,
 "nbformat_minor": 4
}
